{
 "cells": [
  {
   "cell_type": "markdown",
   "id": "78bc7706-5ffd-4176-9009-cbcadf210919",
   "metadata": {},
   "source": [
    "Goal:\n",
    "Let the user enter a sentence. The program will:\n",
    "-Show length\n",
    "-Uppercase/lowercase versions\n",
    "-First & last 5 characters\n",
    "-Reversed string\n",
    "-Word count estimate\n",
    "-Cleaned version with .strip()\n",
    "\n",
    "Concepts Used:\n",
    "-Strings, slicing, len(), string methods, formatting "
   ]
  },
  {
   "cell_type": "code",
   "execution_count": 8,
   "id": "f73bfa87-4989-4077-86d7-db93b529815f",
   "metadata": {},
   "outputs": [
    {
     "name": "stdout",
     "output_type": "stream",
     "text": [
      "🔍 Welcome to the Smart String Analyzer!\n"
     ]
    },
    {
     "name": "stdin",
     "output_type": "stream",
     "text": [
      "Enter a sentence:     indiA is MY couNTRY        \n"
     ]
    },
    {
     "name": "stdout",
     "output_type": "stream",
     "text": [
      "\n",
      "📊 Analysis Results:\n",
      "Length of sentence: 30\n",
      "Uppercase:    INDIA IS MY COUNTRY        \n",
      "Lowercase:    india is my country        \n",
      "Title Case:    India Is My Country        \n",
      "Stripped (no extra spaces): indiA is MY couNTRY\n",
      "First 5 characters:    in\n",
      "Last 5 characters:      \n",
      "Reversed:         YRTNuoc YM si Aidni   \n",
      "Estimated word count: 4\n",
      "\n",
      "Thank you for using the analyzer!\n"
     ]
    }
   ],
   "source": [
    "# Smart String Analyzer\n",
    "\n",
    "print(\"🔍 Welcome to the Smart String Analyzer!\")\n",
    "\n",
    "sentence = input(\"Enter a sentence: \")\n",
    "\n",
    "print(\"\\n📊 Analysis Results:\")\n",
    "print(\"Length of sentence:\", len(sentence))\n",
    "print(\"Uppercase:\", sentence.upper())\n",
    "print(\"Lowercase:\", sentence.lower())\n",
    "print(\"Title Case:\", sentence.title())\n",
    "print(\"Stripped (no extra spaces):\", sentence.strip())\n",
    "print(\"First 5 characters:\", sentence[:5])\n",
    "print(\"Last 5 characters:\", sentence[-5:])\n",
    "print(\"Reversed:\", sentence[::-1])\n",
    "print(\"Estimated word count:\", len(sentence.strip().split()))\n",
    "\n",
    "print(\"\\nThank you for using the analyzer!\")\n"
   ]
  },
  {
   "cell_type": "code",
   "execution_count": null,
   "id": "36fe8953-d75c-4e09-9482-88e29e8ff903",
   "metadata": {},
   "outputs": [],
   "source": []
  }
 ],
 "metadata": {
  "kernelspec": {
   "display_name": "Python 3 (ipykernel)",
   "language": "python",
   "name": "python3"
  },
  "language_info": {
   "codemirror_mode": {
    "name": "ipython",
    "version": 3
   },
   "file_extension": ".py",
   "mimetype": "text/x-python",
   "name": "python",
   "nbconvert_exporter": "python",
   "pygments_lexer": "ipython3",
   "version": "3.12.4"
  }
 },
 "nbformat": 4,
 "nbformat_minor": 5
}
