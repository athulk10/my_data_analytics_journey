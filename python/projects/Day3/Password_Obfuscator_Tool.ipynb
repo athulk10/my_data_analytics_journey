{
 "cells": [
  {
   "cell_type": "markdown",
   "id": "1268b1e8-3a42-4bb1-a981-ea527e2664ee",
   "metadata": {},
   "source": [
    "Goal:\n",
    "-Take user name and password\n",
    "-Mask password while showing number of characters\n",
    "-Display welcome message\n",
    "\n",
    "Concepts Used:\n",
    "-len(), string concatenation, * operator, f-strings"
   ]
  },
  {
   "cell_type": "code",
   "execution_count": 2,
   "id": "38fee04b-4028-47e5-ade5-770b38b97a8a",
   "metadata": {},
   "outputs": [
    {
     "name": "stdout",
     "output_type": "stream",
     "text": [
      "🔐 Welcome to Password Obfuscator\n"
     ]
    },
    {
     "name": "stdin",
     "output_type": "stream",
     "text": [
      "Enter your username:  logo9atlogb\n",
      "Enter your password:  logoklba\n"
     ]
    },
    {
     "name": "stdout",
     "output_type": "stream",
     "text": [
      "\n",
      "Welcome, logo9atlogb!\n",
      "Your password ******** is 8 characters long.\n"
     ]
    }
   ],
   "source": [
    "# Password Obfuscator Tool\n",
    "\n",
    "print(\"🔐 Welcome to Password Obfuscator\")\n",
    "\n",
    "username = input(\"Enter your username: \")\n",
    "password = input(\"Enter your password: \")\n",
    "\n",
    "hidden = \"*\" * len(password)\n",
    "\n",
    "print(f\"\\nWelcome, {username}!\")\n",
    "print(f\"Your password {hidden} is {len(password)} characters long.\")"
   ]
  },
  {
   "cell_type": "code",
   "execution_count": null,
   "id": "109ddf56-dd94-4874-a550-5ab119608c17",
   "metadata": {},
   "outputs": [],
   "source": []
  }
 ],
 "metadata": {
  "kernelspec": {
   "display_name": "Python 3 (ipykernel)",
   "language": "python",
   "name": "python3"
  },
  "language_info": {
   "codemirror_mode": {
    "name": "ipython",
    "version": 3
   },
   "file_extension": ".py",
   "mimetype": "text/x-python",
   "name": "python",
   "nbconvert_exporter": "python",
   "pygments_lexer": "ipython3",
   "version": "3.12.4"
  }
 },
 "nbformat": 4,
 "nbformat_minor": 5
}
