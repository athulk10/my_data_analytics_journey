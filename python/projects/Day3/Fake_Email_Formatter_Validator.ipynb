{
 "cells": [
  {
   "cell_type": "markdown",
   "id": "bf82155e-224a-46f0-8974-09b190623434",
   "metadata": {},
   "source": [
    "Goal:\n",
    "-Take user’s first name, last name\n",
    "-Create a fake email\n",
    "-Print it in a decorated format using f-string and escape characters\n",
    "\n",
    "Concepts Used:\n",
    "-String concatenation, .lower(), f-string, \\n, \\t"
   ]
  },
  {
   "cell_type": "code",
   "execution_count": 4,
   "id": "035aff3f-51ca-4463-aff5-fcaed627c4a9",
   "metadata": {},
   "outputs": [
    {
     "name": "stdout",
     "output_type": "stream",
     "text": [
      "📧 Welcome to the Fake Email Generator\n"
     ]
    },
    {
     "name": "stdin",
     "output_type": "stream",
     "text": [
      "Enter your first name:  athul\n",
      "Enter your last name:  krishna\n"
     ]
    },
    {
     "name": "stdout",
     "output_type": "stream",
     "text": [
      "\n",
      "🪪 Your Details:\n",
      "\tFull Name: Athul Krishna\n",
      "\tGenerated Email: athul.krishna@example.com\n",
      "\tEmail Length: 25 characters\n"
     ]
    }
   ],
   "source": [
    "# Fake Email Generator\n",
    "\n",
    "print(\"📧 Welcome to the Fake Email Generator\")\n",
    "\n",
    "first_name = input(\"Enter your first name: \").strip()\n",
    "last_name = input(\"Enter your last name: \").strip()\n",
    "\n",
    "email = f\"{first_name.lower()}.{last_name.lower()}@example.com\"\n",
    "\n",
    "print(\"\\n🪪 Your Details:\")\n",
    "print(f\"\\tFull Name: {first_name.title()} {last_name.title()}\")\n",
    "print(f\"\\tGenerated Email: {email}\")\n",
    "print(f\"\\tEmail Length: {len(email)} characters\")\n"
   ]
  },
  {
   "cell_type": "code",
   "execution_count": null,
   "id": "36801f71-1bcf-43c2-ac46-baf32a08e1a2",
   "metadata": {},
   "outputs": [],
   "source": []
  }
 ],
 "metadata": {
  "kernelspec": {
   "display_name": "Python 3 (ipykernel)",
   "language": "python",
   "name": "python3"
  },
  "language_info": {
   "codemirror_mode": {
    "name": "ipython",
    "version": 3
   },
   "file_extension": ".py",
   "mimetype": "text/x-python",
   "name": "python",
   "nbconvert_exporter": "python",
   "pygments_lexer": "ipython3",
   "version": "3.12.4"
  }
 },
 "nbformat": 4,
 "nbformat_minor": 5
}
