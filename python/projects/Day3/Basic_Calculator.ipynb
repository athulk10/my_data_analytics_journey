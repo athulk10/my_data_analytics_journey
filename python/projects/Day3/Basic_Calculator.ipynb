{
 "cells": [
  {
   "cell_type": "markdown",
   "id": "fe3a1128-f530-43f6-8c54-3974828c308a",
   "metadata": {},
   "source": [
    "Goal:\n",
    "Ask user for two numbers and perform:\n",
    "-Addition, subtraction, multiplication, division\n",
    "-Use f-strings to format output\n",
    "Concepts Used:\n",
    "-input(), type casting, arithmetic operators, f-strings"
   ]
  },
  {
   "cell_type": "code",
   "execution_count": 2,
   "id": "11a7949c-3952-4939-8716-577f7872f0af",
   "metadata": {},
   "outputs": [
    {
     "name": "stdout",
     "output_type": "stream",
     "text": [
      "🧮 Welcome to the Basic Calculator\n"
     ]
    },
    {
     "name": "stdin",
     "output_type": "stream",
     "text": [
      "Enter the first number:  56 \n",
      "Enter the second number:  3\n"
     ]
    },
    {
     "name": "stdout",
     "output_type": "stream",
     "text": [
      "\n",
      "📈 Calculation Results:\n",
      "56.0 + 3.0 = 59.0\n",
      "56.0 - 3.0 = 53.0\n",
      "56.0 * 3.0 = 168.0\n",
      "56.0 / 3.0 = 18.666666666666668\n",
      "56.0 ** 3.0 = 175616.0\n",
      "56.0 // 3.0 = 18.0\n",
      "56.0 % 3.0 = 2.0\n"
     ]
    }
   ],
   "source": [
    "# Simple Calculator\n",
    "\n",
    "print(\"🧮 Welcome to the Basic Calculator\")\n",
    "\n",
    "num1 = float(input(\"Enter the first number: \"))\n",
    "num2 = float(input(\"Enter the second number: \"))\n",
    "\n",
    "print(\"\\n📈 Calculation Results:\")\n",
    "print(f\"{num1} + {num2} = {num1 + num2}\")\n",
    "print(f\"{num1} - {num2} = {num1 - num2}\")\n",
    "print(f\"{num1} * {num2} = {num1 * num2}\")\n",
    "print(f\"{num1} / {num2} = {num1 / num2}\")\n",
    "print(f\"{num1} ** {num2} = {num1 ** num2}\")\n",
    "print(f\"{num1} // {num2} = {num1 // num2}\")\n",
    "print(f\"{num1} % {num2} = {num1 % num2}\")\n"
   ]
  },
  {
   "cell_type": "code",
   "execution_count": null,
   "id": "609a8a03-37a2-45a6-9df1-a9dcb049a5d9",
   "metadata": {},
   "outputs": [],
   "source": []
  }
 ],
 "metadata": {
  "kernelspec": {
   "display_name": "Python 3 (ipykernel)",
   "language": "python",
   "name": "python3"
  },
  "language_info": {
   "codemirror_mode": {
    "name": "ipython",
    "version": 3
   },
   "file_extension": ".py",
   "mimetype": "text/x-python",
   "name": "python",
   "nbconvert_exporter": "python",
   "pygments_lexer": "ipython3",
   "version": "3.12.4"
  }
 },
 "nbformat": 4,
 "nbformat_minor": 5
}
