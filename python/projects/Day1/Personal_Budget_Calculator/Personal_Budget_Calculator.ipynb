{
 "cells": [
  {
   "cell_type": "code",
   "execution_count": 1,
   "id": "ef8d8abf-bb92-4948-b9b5-a93cf97f9000",
   "metadata": {},
   "outputs": [
    {
     "name": "stdout",
     "output_type": "stream",
     "text": [
      "Welcome to the Budget Calculator!\n"
     ]
    },
    {
     "name": "stdin",
     "output_type": "stream",
     "text": [
      "Enter your monthly income in Rs:  50000\n",
      "Enter your rent expense in Rs:  15000\n",
      "Enter your food expense in Rs:  5000\n",
      "Enter your travel expense in Rs:  5000\n"
     ]
    },
    {
     "name": "stdout",
     "output_type": "stream",
     "text": [
      "------ Summary ------\n",
      "Total Income: Rs. 50000.0\n",
      "Total Expenses: Rs. 25000.0\n",
      "Remaining Balance: Rs. 25000.0\n",
      "Did you save money this month? True\n",
      "Type of income variable: <class 'float'>\n",
      "Type of saved variable: <class 'bool'>\n"
     ]
    }
   ],
   "source": [
    "# Personal Budget Calculator\n",
    "\n",
    "# Ask for income\n",
    "print(\"Welcome to the Budget Calculator!\")\n",
    "income = float(input(\"Enter your monthly income in Rs: \"))\n",
    "\n",
    "# Ask for expenses\n",
    "rent = float(input(\"Enter your rent expense in Rs: \"))\n",
    "food = float(input(\"Enter your food expense in Rs: \"))\n",
    "travel = float(input(\"Enter your travel expense in Rs: \"))\n",
    "\n",
    "# Calculate total expenses and balance\n",
    "total_expense = rent + food + travel\n",
    "balance = income - total_expense\n",
    "\n",
    "# Print results\n",
    "print(\"------ Summary ------\")\n",
    "print(\"Total Income: Rs.\", income)\n",
    "print(\"Total Expenses: Rs.\", total_expense)\n",
    "print(\"Remaining Balance: Rs.\", balance)\n",
    "\n",
    "# Check if they saved or overspent\n",
    "saved = balance >= 0\n",
    "print(\"Did you save money this month?\", saved)  # This shows a boolean True or False\n",
    "\n",
    "# Show type of variables\n",
    "print(\"Type of income variable:\", type(income))\n",
    "print(\"Type of saved variable:\", type(saved))\n"
   ]
  },
  {
   "cell_type": "code",
   "execution_count": null,
   "id": "ce2b2d37-8141-4c99-854a-553485b36998",
   "metadata": {},
   "outputs": [],
   "source": []
  }
 ],
 "metadata": {
  "kernelspec": {
   "display_name": "Python 3 (ipykernel)",
   "language": "python",
   "name": "python3"
  },
  "language_info": {
   "codemirror_mode": {
    "name": "ipython",
    "version": 3
   },
   "file_extension": ".py",
   "mimetype": "text/x-python",
   "name": "python",
   "nbconvert_exporter": "python",
   "pygments_lexer": "ipython3",
   "version": "3.12.4"
  }
 },
 "nbformat": 4,
 "nbformat_minor": 5
}
