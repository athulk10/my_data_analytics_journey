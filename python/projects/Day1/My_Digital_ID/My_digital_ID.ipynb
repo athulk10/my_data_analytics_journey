{
 "cells": [
  {
   "cell_type": "code",
   "execution_count": 9,
   "id": "0a0e6202-fdc8-4376-bd03-cc21ab9d8aa4",
   "metadata": {},
   "outputs": [
    {
     "name": "stdout",
     "output_type": "stream",
     "text": [
      "Hello! My name is Athul Krishna.\n",
      "I am 24 years old.\n",
      "I live in India.\n",
      "My favorite hobby is: Football\n",
      "My favorite food is: Dosa\n",
      "My dream is to: Become a Data Analyst\n",
      "\n",
      "Nice to meet you! Let's learn Python together!\n"
     ]
    }
   ],
   "source": [
    "# My Digital ID\n",
    "\n",
    "# Step 1: Storeing information\n",
    "name = \"Athul Krishna\"\n",
    "age = 24\n",
    "country = \"India\"\n",
    "hobby = \"Football\"\n",
    "fav_food = \"Dosa\"\n",
    "future_goal = \"Become a Data Analyst\"\n",
    "\n",
    "# Step 2: Printing introduction\n",
    "print(\"Hello! My name is\", name+\".\")\n",
    "print(\"I am\", age, \"years old.\")\n",
    "print(\"I live in\", country + \".\")\n",
    "print(\"My favorite hobby is:\", hobby)\n",
    "print(\"My favorite food is:\", fav_food)\n",
    "print(\"My dream is to:\", future_goal)\n",
    "\n",
    "# Step 3: A short message\n",
    "print(\"\\nNice to meet you! Let's learn Python together!\")\n"
   ]
  },
  {
   "cell_type": "code",
   "execution_count": null,
   "id": "d33e7089-e975-473b-bf7e-205bdc02b8e0",
   "metadata": {},
   "outputs": [],
   "source": []
  }
 ],
 "metadata": {
  "kernelspec": {
   "display_name": "Python 3 (ipykernel)",
   "language": "python",
   "name": "python3"
  },
  "language_info": {
   "codemirror_mode": {
    "name": "ipython",
    "version": 3
   },
   "file_extension": ".py",
   "mimetype": "text/x-python",
   "name": "python",
   "nbconvert_exporter": "python",
   "pygments_lexer": "ipython3",
   "version": "3.12.4"
  }
 },
 "nbformat": 4,
 "nbformat_minor": 5
}
