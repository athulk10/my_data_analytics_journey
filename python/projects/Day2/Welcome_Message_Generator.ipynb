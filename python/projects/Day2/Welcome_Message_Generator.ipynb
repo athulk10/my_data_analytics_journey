{
 "cells": [
  {
   "cell_type": "code",
   "execution_count": 2,
   "id": "72077a1f-f79f-4be1-b86a-21755b957893",
   "metadata": {},
   "outputs": [
    {
     "name": "stdin",
     "output_type": "stream",
     "text": [
      "Enter your name:  Athul\n",
      "Enter your course or goal:  become a data analyst\n"
     ]
    },
    {
     "name": "stdout",
     "output_type": "stream",
     "text": [
      "\n",
      "\n",
      "Welcome, Athul!\n",
      "You're now enrolled in the \"become a data analyst\" journey.\n",
      "\n",
      "\tLet's level up 🚀\n",
      "\tStay consistent. Stay curious.\n",
      "\n",
      "Best wishes,\n",
      "The Data Learning Team 💡\n"
     ]
    }
   ],
   "source": [
    "# Welcome_Message_Generator\n",
    "# Creates a formatted welcome message using f-strings and escape sequences\n",
    "\n",
    "# Input\n",
    "user_name = input(\"Enter your name: \").strip().title()\n",
    "course = input(\"Enter your course or goal: \").strip()\n",
    "\n",
    "# Message using escape characters and f-string\n",
    "message = f\"\\n\\nWelcome, {user_name}!\\n\" \\\n",
    "          f\"You're now enrolled in the \\\"{course}\\\" journey.\\n\" \\\n",
    "          f\"\\n\\tLet's level up 🚀\\n\" \\\n",
    "          f\"\\tStay consistent. Stay curious.\\n\" \\\n",
    "          f\"\\nBest wishes,\\nThe Data Learning Team 💡\"\n",
    "\n",
    "# Output\n",
    "print(message)\n"
   ]
  },
  {
   "cell_type": "code",
   "execution_count": null,
   "id": "c14e1abb-c604-4dce-b4da-59a0f53e96be",
   "metadata": {},
   "outputs": [],
   "source": []
  }
 ],
 "metadata": {
  "kernelspec": {
   "display_name": "Python 3 (ipykernel)",
   "language": "python",
   "name": "python3"
  },
  "language_info": {
   "codemirror_mode": {
    "name": "ipython",
    "version": 3
   },
   "file_extension": ".py",
   "mimetype": "text/x-python",
   "name": "python",
   "nbconvert_exporter": "python",
   "pygments_lexer": "ipython3",
   "version": "3.12.4"
  }
 },
 "nbformat": 4,
 "nbformat_minor": 5
}
