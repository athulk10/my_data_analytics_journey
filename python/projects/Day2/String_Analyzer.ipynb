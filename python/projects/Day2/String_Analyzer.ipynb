{
 "cells": [
  {
   "cell_type": "code",
   "execution_count": 2,
   "id": "b6779a27-af3f-4a74-a78c-c377731902bf",
   "metadata": {},
   "outputs": [
    {
     "name": "stdin",
     "output_type": "stream",
     "text": [
      "Enter a sentence:  berlin IS so Beautiful\n"
     ]
    },
    {
     "name": "stdout",
     "output_type": "stream",
     "text": [
      "\n",
      "--- String Analysis ---\n",
      "Length           : 22\n",
      "Uppercase        : BERLIN IS SO BEAUTIFUL\n",
      "Reversed         : lufituaeB os SI nilreb\n",
      "First 5 Chars    : berli\n",
      "Last 5 Chars     : tiful\n"
     ]
    }
   ],
   "source": [
    "# String_Analyzer Project\n",
    "# Analyzes a user-entered sentence\n",
    "\n",
    "# Input sentence\n",
    "sentence = input(\"Enter a sentence: \").strip()\n",
    "\n",
    "# Processing\n",
    "length = len(sentence)\n",
    "uppercase_version = sentence.upper()\n",
    "reversed_sentence = sentence[::-1]\n",
    "first_5 = sentence[:5]\n",
    "last_5 = sentence[-5:]\n",
    "\n",
    "# Output\n",
    "print(\"\\n--- String Analysis ---\")\n",
    "print(\"Length           :\", length)\n",
    "print(\"Uppercase        :\", uppercase_version)\n",
    "print(\"Reversed         :\", reversed_sentence)\n",
    "print(\"First 5 Chars    :\", first_5)\n",
    "print(\"Last 5 Chars     :\", last_5)\n"
   ]
  },
  {
   "cell_type": "code",
   "execution_count": null,
   "id": "547dfd5e-b832-48eb-890d-ae627e66d24c",
   "metadata": {},
   "outputs": [],
   "source": []
  }
 ],
 "metadata": {
  "kernelspec": {
   "display_name": "Python 3 (ipykernel)",
   "language": "python",
   "name": "python3"
  },
  "language_info": {
   "codemirror_mode": {
    "name": "ipython",
    "version": 3
   },
   "file_extension": ".py",
   "mimetype": "text/x-python",
   "name": "python",
   "nbconvert_exporter": "python",
   "pygments_lexer": "ipython3",
   "version": "3.12.4"
  }
 },
 "nbformat": 4,
 "nbformat_minor": 5
}
