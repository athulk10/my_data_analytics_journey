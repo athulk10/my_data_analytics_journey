{
 "cells": [
  {
   "cell_type": "code",
   "execution_count": 1,
   "id": "a5926b71-9b45-4a63-8887-c361f1ffc089",
   "metadata": {},
   "outputs": [
    {
     "name": "stdin",
     "output_type": "stream",
     "text": [
      "Enter your name:  AthuL KriSHna\n"
     ]
    },
    {
     "name": "stdout",
     "output_type": "stream",
     "text": [
      "Uppercase     : ATHUL KRISHNA\n",
      "Reversed      : anHSirK LuhtA\n",
      "Proper Case   : Athul Krishna\n",
      "Lowercase     : athul krishna\n",
      "First Name Only: AthuL\n"
     ]
    }
   ],
   "source": [
    "# Name_Formatter Project\n",
    "# Takes a user's name and returns various formatted versions\n",
    "\n",
    "# Take user input\n",
    "name = input(\"Enter your name: \").strip()\n",
    "\n",
    "# Format outputs\n",
    "print(\"Uppercase     :\", name.upper())\n",
    "print(\"Reversed      :\", name[::-1])\n",
    "print(\"Proper Case   :\", name.title())\n",
    "print(\"Lowercase     :\", name.lower())\n",
    "print(\"First Name Only:\", name.split()[0])\n"
   ]
  },
  {
   "cell_type": "code",
   "execution_count": null,
   "id": "3a7c8b0f-5897-4e80-9040-af030fdb476f",
   "metadata": {},
   "outputs": [],
   "source": []
  }
 ],
 "metadata": {
  "kernelspec": {
   "display_name": "Python 3 (ipykernel)",
   "language": "python",
   "name": "python3"
  },
  "language_info": {
   "codemirror_mode": {
    "name": "ipython",
    "version": 3
   },
   "file_extension": ".py",
   "mimetype": "text/x-python",
   "name": "python",
   "nbconvert_exporter": "python",
   "pygments_lexer": "ipython3",
   "version": "3.12.4"
  }
 },
 "nbformat": 4,
 "nbformat_minor": 5
}
