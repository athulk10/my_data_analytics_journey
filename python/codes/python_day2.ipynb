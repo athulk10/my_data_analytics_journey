{
 "cells": [
  {
   "cell_type": "markdown",
   "id": "51c58a7e-3eaa-486d-85e5-defb8593d878",
   "metadata": {},
   "source": [
    "# Strings"
   ]
  },
  {
   "cell_type": "code",
   "execution_count": 8,
   "id": "863a56ae-4673-4b26-bc29-b8117cd0b918",
   "metadata": {},
   "outputs": [
    {
     "name": "stdout",
     "output_type": "stream",
     "text": [
      "Hello\n",
      "Hello\n",
      "hello\n",
      "hello\n"
     ]
    }
   ],
   "source": [
    "# string is a sequence of characters enclosed in quotes (single ', double \", or triple quotes '''/\"\"\").\n",
    "\n",
    "print(\"Hello\")\n",
    "print('Hello')\n",
    "print(\"\"\"hello\"\"\")\n",
    "print('''hello''')"
   ]
  },
  {
   "cell_type": "code",
   "execution_count": 10,
   "id": "03a34d77-febc-4c10-9fc6-debd8a4de165",
   "metadata": {},
   "outputs": [
    {
     "name": "stdout",
     "output_type": "stream",
     "text": [
      "It's alright\n",
      "He is called 'Johnny'\n",
      "He is called \"Johnny\"\n"
     ]
    }
   ],
   "source": [
    "#Quotes Inside Quotes\n",
    "print(\"It's alright\")\n",
    "print(\"He is called 'Johnny'\")\n",
    "print('He is called \"Johnny\"')"
   ]
  },
  {
   "cell_type": "code",
   "execution_count": 12,
   "id": "315186e5-a7eb-4166-abcc-9c337acbf55b",
   "metadata": {},
   "outputs": [
    {
     "name": "stdout",
     "output_type": "stream",
     "text": [
      "Athul\n",
      "Berlin\n",
      "Python is great for data analytics.\n"
     ]
    }
   ],
   "source": [
    "#Assign String to a Variable\n",
    "name = \"Athul\"\n",
    "city = 'Berlin'\n",
    "description = \"\"\"Python is great for data analytics.\"\"\"\n",
    "print(name)\n",
    "print(city)\n",
    "print(description)"
   ]
  },
  {
   "cell_type": "code",
   "execution_count": 14,
   "id": "3314a966-9e0b-4f01-b69f-7a15e5c2ff2a",
   "metadata": {},
   "outputs": [
    {
     "name": "stdout",
     "output_type": "stream",
     "text": [
      "this is a \n",
      "    string in \n",
      "    multiple lines\n"
     ]
    }
   ],
   "source": [
    "#Multiline string\n",
    "a = \"\"\"this is a \n",
    "    string in \n",
    "    multiple lines\"\"\"\n",
    "print(a)"
   ]
  },
  {
   "cell_type": "code",
   "execution_count": 16,
   "id": "d83abbeb-620a-4810-bb7e-68c85838a889",
   "metadata": {},
   "outputs": [
    {
     "name": "stdout",
     "output_type": "stream",
     "text": [
      "this is a \n",
      "    string in \n",
      "    multiple lines\n"
     ]
    }
   ],
   "source": [
    "a = '''this is a \n",
    "    string in \n",
    "    multiple lines'''\n",
    "print(a)"
   ]
  },
  {
   "cell_type": "code",
   "execution_count": 18,
   "id": "6b729a60-e63e-4a05-bd17-56d81232be0c",
   "metadata": {},
   "outputs": [
    {
     "name": "stdout",
     "output_type": "stream",
     "text": [
      "e\n"
     ]
    }
   ],
   "source": [
    "#strings in Python are arrays of bytes representing unicode characters.\n",
    "#Python does not have a character data type, a single character is simply a string with a length of 1.\n",
    "#Square brackets can be used to access elements of the string.\n",
    "a = \"Hello, World!\"\n",
    "print(a[1])"
   ]
  },
  {
   "cell_type": "code",
   "execution_count": 22,
   "id": "6b7b56b5-72a8-4aa0-a790-7fc0bb066e5c",
   "metadata": {},
   "outputs": [
    {
     "name": "stdout",
     "output_type": "stream",
     "text": [
      "!\n"
     ]
    }
   ],
   "source": [
    "#negative indexing\n",
    "a = \"Hello, World!\"\n",
    "print(a[-1])"
   ]
  },
  {
   "cell_type": "code",
   "execution_count": 20,
   "id": "37b8db10-8537-4f74-94d3-f29790b4dcdf",
   "metadata": {},
   "outputs": [
    {
     "name": "stdout",
     "output_type": "stream",
     "text": [
      "B\n",
      "e\n",
      "r\n",
      "l\n",
      "i\n",
      "n\n"
     ]
    }
   ],
   "source": [
    "#Looping Through a String\n",
    "for x in \"Berlin\":\n",
    "  print(x)"
   ]
  },
  {
   "cell_type": "code",
   "execution_count": 24,
   "id": "5e4e49ca-e64d-4361-9b84-76113f76dd5f",
   "metadata": {},
   "outputs": [
    {
     "name": "stdout",
     "output_type": "stream",
     "text": [
      "6\n"
     ]
    }
   ],
   "source": [
    "#string length - len()\n",
    "a = \"berlin\"\n",
    "print(len(a))"
   ]
  },
  {
   "cell_type": "code",
   "execution_count": 36,
   "id": "9b2f3d8f-c55c-4daa-afb9-a10d2527c556",
   "metadata": {},
   "outputs": [
    {
     "name": "stdout",
     "output_type": "stream",
     "text": [
      "True\n",
      "False\n"
     ]
    }
   ],
   "source": [
    "#check string\n",
    "#To check if a certain phrase or character is present in a string, we can use the keyword \"in\".\n",
    "text = \"football is the best sports\"\n",
    "print(\"best\" in text)\n",
    "print(\"test\" in text)"
   ]
  },
  {
   "cell_type": "code",
   "execution_count": 28,
   "id": "679503ea-2c72-4abb-ada0-a5eebc5cc8e1",
   "metadata": {},
   "outputs": [
    {
     "name": "stdout",
     "output_type": "stream",
     "text": [
      " yes 'best' is in text\n"
     ]
    }
   ],
   "source": [
    "text = \"football is the best sports\"\n",
    "if \"best\" in text:\n",
    "    print(\" yes 'best' is in text\")"
   ]
  },
  {
   "cell_type": "code",
   "execution_count": 32,
   "id": "b854ec8d-9beb-4111-b806-fd1173526dd8",
   "metadata": {},
   "outputs": [
    {
     "name": "stdout",
     "output_type": "stream",
     "text": [
      "True\n",
      "False\n"
     ]
    }
   ],
   "source": [
    "#check if not\n",
    "#check if a certain phrase or character is NOT present in a string, we can use the keyword not in.\n",
    "text = \"football is the best sports\"\n",
    "print(\"test\" not in text)\n",
    "print(\"best\" not in text)"
   ]
  },
  {
   "cell_type": "code",
   "execution_count": 42,
   "id": "737bb82e-72c3-476b-85a9-e2498f28b09d",
   "metadata": {},
   "outputs": [],
   "source": [
    "text = \"football is the best sports\"\n",
    "if \"best\" not in text:\n",
    "    print(\" yes 'best' is in text\")  \n",
    "#no output since the word \"best\" is in the text"
   ]
  },
  {
   "cell_type": "markdown",
   "id": "156339e9-a24c-4624-bdb3-f8faf7038d47",
   "metadata": {},
   "source": [
    "## String Operations"
   ]
  },
  {
   "cell_type": "markdown",
   "id": "cfe5f2dc-eb97-4b92-9864-571d7ea9a291",
   "metadata": {},
   "source": [
    "### 1. Slicing a String"
   ]
  },
  {
   "cell_type": "markdown",
   "id": "6bb44e37-b72d-4510-a8f8-c79847b85c2e",
   "metadata": {},
   "source": [
    "Return a range of characters. \n",
    "Specify the start index and the end index, separated by a colon, to return a part of the string."
   ]
  },
  {
   "cell_type": "code",
   "execution_count": 86,
   "id": "fa0b78d3-6021-4974-8e63-c91701864896",
   "metadata": {},
   "outputs": [
    {
     "name": "stdout",
     "output_type": "stream",
     "text": [
      "tho\n",
      "Pytho\n",
      "thon\n"
     ]
    }
   ],
   "source": [
    "#Basic Slicing\n",
    "#1. normal\n",
    "b = \"Python\" #index- 012345   \"-6 -5 -4 -3 -2 -1 \" from end.\n",
    "print(b[2:5])  #5th position (end position) not included.\n",
    "\n",
    "#2. slicing from start \n",
    "print(b[:5]) #leaving out the start index, the range will start at the first character\n",
    "\n",
    "#3. slicing to end\n",
    "print(b[2:]) #leaving out the end index, range will go to the end"
   ]
  },
  {
   "cell_type": "code",
   "execution_count": 78,
   "id": "7b2c05ff-a7e1-4060-97c5-a9e3516f0d82",
   "metadata": {},
   "outputs": [
    {
     "name": "stdout",
     "output_type": "stream",
     "text": [
      "hon\n",
      "Pyth\n",
      "tho\n"
     ]
    }
   ],
   "source": [
    "#Negative Index Slicing\n",
    "print(b[-3:]) # to the end\n",
    "print(b[:-2]) #from the start\n",
    "print(b[-4:-1]) # normal negative range\n"
   ]
  },
  {
   "cell_type": "code",
   "execution_count": 106,
   "id": "eea64ca0-c062-4ba6-b49e-1806d3bbbbf5",
   "metadata": {},
   "outputs": [
    {
     "name": "stdout",
     "output_type": "stream",
     "text": [
      "Pto\n",
      "yhn\n",
      "Ph\n"
     ]
    }
   ],
   "source": [
    "#Slicing with step (skipping characters)\n",
    "#syntax :- text[start:end:skip]\n",
    "print(b[::2]) #print every 2nd character. index- 0,2,4 printed \n",
    "print(b[1::2]) #index 1,3,5\n",
    "print(b[::3]) #skips 3 from start ot end. index-0,3"
   ]
  },
  {
   "cell_type": "code",
   "execution_count": 114,
   "id": "c5b72089-8764-43e6-8c0c-f28111964b5f",
   "metadata": {},
   "outputs": [
    {
     "name": "stdout",
     "output_type": "stream",
     "text": [
      "nohtyP\n",
      "nohtyP\n",
      "noht\n"
     ]
    }
   ],
   "source": [
    "#reversing a string\n",
    "print(b[::-1]) #starts from end and reverse entire string\n",
    "print(b[-1:-7:-1])\n",
    "print(b[5:1:-1]) "
   ]
  },
  {
   "cell_type": "code",
   "execution_count": null,
   "id": "5f00627c-9f2b-4425-b788-43f30725845e",
   "metadata": {},
   "outputs": [],
   "source": []
  },
  {
   "cell_type": "code",
   "execution_count": 126,
   "id": "60dd7b9c-49e0-4d68-8349-7eef45285080",
   "metadata": {},
   "outputs": [
    {
     "name": "stdout",
     "output_type": "stream",
     "text": [
      "yh\n",
      "Python\n",
      "Python\n"
     ]
    }
   ],
   "source": [
    "#partial and others\n",
    "print(b[1:5:2]) #start from 1 end before 5 skips 2\n",
    "print(b[::]) #entire string\n",
    "print(b[::1]) #entire string"
   ]
  },
  {
   "cell_type": "markdown",
   "id": "e3af631c-c093-4fa1-b5f2-3d9a2b607e34",
   "metadata": {},
   "source": [
    "### 2. Modify a String"
   ]
  },
  {
   "cell_type": "code",
   "execution_count": 137,
   "id": "35bb9c3d-3431-4406-9224-46c4e12906b2",
   "metadata": {},
   "outputs": [
    {
     "name": "stdout",
     "output_type": "stream",
     "text": [
      "DEUTSCHLAND\n"
     ]
    },
    {
     "data": {
      "text/plain": [
       "'HI'"
      ]
     },
     "execution_count": 137,
     "metadata": {},
     "output_type": "execute_result"
    }
   ],
   "source": [
    "# 1. UPPER CASE - upper()\n",
    "c = \"deutschland\"\n",
    "print(c.upper()) #converts the string to uppercase\n",
    "\"hi\".upper()"
   ]
  },
  {
   "cell_type": "code",
   "execution_count": 135,
   "id": "0cef27d5-f13e-4e85-a480-37a8f6e0ecd4",
   "metadata": {},
   "outputs": [
    {
     "name": "stdout",
     "output_type": "stream",
     "text": [
      "deutschland\n"
     ]
    },
    {
     "data": {
      "text/plain": [
       "'hello'"
      ]
     },
     "execution_count": 135,
     "metadata": {},
     "output_type": "execute_result"
    }
   ],
   "source": [
    "# 2. LOWER CASE - lower()\n",
    "print(c.lower()) #to lower case\n",
    "\"HELLO\".lower()"
   ]
  },
  {
   "cell_type": "code",
   "execution_count": 139,
   "id": "828cf42b-bab2-4c1b-b3e7-f75046f39740",
   "metadata": {},
   "outputs": [
    {
     "name": "stdout",
     "output_type": "stream",
     "text": [
      "Hello, World!\n"
     ]
    },
    {
     "data": {
      "text/plain": [
       "'hello'"
      ]
     },
     "execution_count": 139,
     "metadata": {},
     "output_type": "execute_result"
    }
   ],
   "source": [
    "# 3. Remove WHITESPACE - strip()\n",
    "a = \" Hello, World! \"\n",
    "print(a.strip()) # returns \"Hello, World!\"\n",
    "\"   hello   \".strip()"
   ]
  },
  {
   "cell_type": "code",
   "execution_count": 141,
   "id": "056ac542-ec77-444d-919e-2c3f760322e1",
   "metadata": {},
   "outputs": [
    {
     "name": "stdout",
     "output_type": "stream",
     "text": [
      "Jello\n"
     ]
    },
    {
     "data": {
      "text/plain": [
       "'hallo'"
      ]
     },
     "execution_count": 141,
     "metadata": {},
     "output_type": "execute_result"
    }
   ],
   "source": [
    "# 4. REPLACE String - replace()\n",
    "a = \"Hello\"\n",
    "print(a.replace(\"H\", \"J\"))\n",
    "\"hello\".replace(\"e\", \"a\")"
   ]
  },
  {
   "cell_type": "code",
   "execution_count": 145,
   "id": "b4e6105f-67c6-4d2a-87ae-2b0ed34b5f43",
   "metadata": {},
   "outputs": [
    {
     "name": "stdout",
     "output_type": "stream",
     "text": [
      "['Hello', 'you', 'are', 'Welcome!']\n"
     ]
    },
    {
     "data": {
      "text/plain": [
       "['Hello', 'you', 'are', 'Welcome!']"
      ]
     },
     "execution_count": 145,
     "metadata": {},
     "output_type": "execute_result"
    }
   ],
   "source": [
    "# 5. SPLIT String - split() method splits the string into substrings if it finds instances of the separator.\n",
    "#split() method returns a list where the text between the specified separator becomes the list items.\n",
    "a = \"Hello,you,are,Welcome!\"\n",
    "print(a.split(\",\"))\n",
    "\"Hello,you,are,Welcome!\".split(\",\")"
   ]
  },
  {
   "cell_type": "code",
   "execution_count": 151,
   "id": "b89db142-d409-473a-8349-3f33b9cbf618",
   "metadata": {},
   "outputs": [
    {
     "name": "stdout",
     "output_type": "stream",
     "text": [
      "Hello, and welcome to my world.\n"
     ]
    },
    {
     "data": {
      "text/plain": [
       "'Hello world'"
      ]
     },
     "execution_count": 151,
     "metadata": {},
     "output_type": "execute_result"
    }
   ],
   "source": [
    "# 6. CAPITALIZE - capitalize() capitalises the first letter of a word or a sentence\n",
    "txt = \"hello, and welcome to my world.\"\n",
    "x = txt.capitalize()\n",
    "print (x)\n",
    "\"hello world\".capitalize()"
   ]
  },
  {
   "cell_type": "code",
   "execution_count": 153,
   "id": "c11fd3b6-f965-4051-b5df-013a24974764",
   "metadata": {},
   "outputs": [
    {
     "name": "stdout",
     "output_type": "stream",
     "text": [
      "Hello, And Welcome To My World.\n"
     ]
    },
    {
     "data": {
      "text/plain": [
       "'Hello World'"
      ]
     },
     "execution_count": 153,
     "metadata": {},
     "output_type": "execute_result"
    }
   ],
   "source": [
    "# 7. TITLE - title() capitalises first letter of each word\n",
    "txt = \"hello, and welcome to my world.\"\n",
    "x = txt.title()\n",
    "print (x)\n",
    "\"hello world\".title()"
   ]
  },
  {
   "cell_type": "code",
   "execution_count": 155,
   "id": "2d2f6960-3405-40ec-aaa6-d3fd330fdab6",
   "metadata": {},
   "outputs": [
    {
     "data": {
      "text/plain": [
       "'Python is fun'"
      ]
     },
     "execution_count": 155,
     "metadata": {},
     "output_type": "execute_result"
    }
   ],
   "source": [
    "# 8. JOIN - join()\n",
    "\" \".join([\"Python\", \"is\", \"fun\"])"
   ]
  },
  {
   "cell_type": "code",
   "execution_count": 172,
   "id": "bc231e63-fead-48ed-a65d-21530ba2329a",
   "metadata": {},
   "outputs": [
    {
     "name": "stdout",
     "output_type": "stream",
     "text": [
      "HelLo WOrlD\n"
     ]
    }
   ],
   "source": [
    "# 9. SWAP CASE -swapcase()\n",
    "s = 'hELlO woRLd'\n",
    "print(s.swapcase())  #upper -> lower and lpwer -> upper"
   ]
  },
  {
   "cell_type": "code",
   "execution_count": 174,
   "id": "221a7b1a-76b4-4a7c-8889-8750edcb7eea",
   "metadata": {},
   "outputs": [
    {
     "data": {
      "text/plain": [
       "3"
      ]
     },
     "execution_count": 174,
     "metadata": {},
     "output_type": "execute_result"
    }
   ],
   "source": [
    "# 10. COUNT - count() Count how many times a char appears\n",
    "\"banana\".count(\"a\")"
   ]
  },
  {
   "cell_type": "markdown",
   "id": "9ce386d2-beb2-41ce-86bc-893e43fae1ed",
   "metadata": {},
   "source": [
    "### 3. Concatenate strings"
   ]
  },
  {
   "cell_type": "code",
   "execution_count": 215,
   "id": "c813af9e-6223-4498-acf9-c4005ecbb04b",
   "metadata": {},
   "outputs": [
    {
     "name": "stdout",
     "output_type": "stream",
     "text": [
      "HelloWorld\n",
      "Hello World\n"
     ]
    }
   ],
   "source": [
    "# merge two srings\n",
    "a = \"Hello\"\n",
    "b = \"World\"\n",
    "c = a + b\n",
    "print(c)\n",
    "print(a,b)"
   ]
  },
  {
   "cell_type": "code",
   "execution_count": 165,
   "id": "2dae6286-c4ba-472d-81dc-a20f38d27940",
   "metadata": {},
   "outputs": [
    {
     "name": "stdout",
     "output_type": "stream",
     "text": [
      "Hello World\n"
     ]
    }
   ],
   "source": [
    "# add space in between\n",
    "a = \"Hello\"\n",
    "b = \"World\"\n",
    "c = a + \" \" + b\n",
    "print(c)"
   ]
  },
  {
   "cell_type": "code",
   "execution_count": 217,
   "id": "995b6077-6802-4e9d-82f5-e30aeffcaf14",
   "metadata": {},
   "outputs": [
    {
     "name": "stdout",
     "output_type": "stream",
     "text": [
      "Hello World\n"
     ]
    }
   ],
   "source": [
    "# concatenate using \",\"\n",
    "a = \"Hello\"\n",
    "b = \"World\"\n",
    "print(a,b)"
   ]
  },
  {
   "cell_type": "code",
   "execution_count": 169,
   "id": "325d082d-ea6c-4ad7-824d-50a377a21161",
   "metadata": {},
   "outputs": [
    {
     "ename": "TypeError",
     "evalue": "unsupported operand type(s) for +: 'int' and 'str'",
     "output_type": "error",
     "traceback": [
      "\u001b[1;31m---------------------------------------------------------------------------\u001b[0m",
      "\u001b[1;31mTypeError\u001b[0m                                 Traceback (most recent call last)",
      "Cell \u001b[1;32mIn[169], line 2\u001b[0m\n\u001b[0;32m      1\u001b[0m \u001b[38;5;66;03m#note int + str = error\u001b[39;00m\n\u001b[1;32m----> 2\u001b[0m \u001b[38;5;241m5\u001b[39m \u001b[38;5;241m+\u001b[39m \u001b[38;5;124m\"\u001b[39m\u001b[38;5;124m5\u001b[39m\u001b[38;5;124m\"\u001b[39m\n",
      "\u001b[1;31mTypeError\u001b[0m: unsupported operand type(s) for +: 'int' and 'str'"
     ]
    }
   ],
   "source": [
    "#note int + str = error\n",
    "5 + \"5\""
   ]
  },
  {
   "cell_type": "code",
   "execution_count": 167,
   "id": "0637b3c2-cc12-45af-87d1-59f226f97981",
   "metadata": {},
   "outputs": [
    {
     "name": "stdout",
     "output_type": "stream",
     "text": [
      "hellohellohellohellohello\n"
     ]
    }
   ],
   "source": [
    "# repeating a string multiple time \n",
    "a = \"hello\"\n",
    "print(a*5) #prints 'hello' 5 times"
   ]
  },
  {
   "cell_type": "markdown",
   "id": "76102af4-0f91-4209-83ef-c7162bc223db",
   "metadata": {},
   "source": [
    "### 4. Escape Characters"
   ]
  },
  {
   "cell_type": "code",
   "execution_count": 177,
   "id": "3962d803-f63b-4f35-9dcf-5a3f4149fa48",
   "metadata": {},
   "outputs": [
    {
     "ename": "SyntaxError",
     "evalue": "invalid syntax (2121409264.py, line 4)",
     "output_type": "error",
     "traceback": [
      "\u001b[1;36m  Cell \u001b[1;32mIn[177], line 4\u001b[1;36m\u001b[0m\n\u001b[1;33m    txt = \"We are the so-called \"Vikings\" from the north.\"\u001b[0m\n\u001b[1;37m                                 ^\u001b[0m\n\u001b[1;31mSyntaxError\u001b[0m\u001b[1;31m:\u001b[0m invalid syntax\n"
     ]
    }
   ],
   "source": [
    "#To insert characters that are illegal in a string, use an escape character.\n",
    "#An escape character is a backslash \\ followed by the character you want to insert.\n",
    "#An example of an illegal character is a double quote inside a string that is surrounded by double quotes:\n",
    "txt = \"We are the so-called \"Vikings\" from the north.\""
   ]
  },
  {
   "cell_type": "code",
   "execution_count": 181,
   "id": "b9b79a37-d6ea-43fb-ad0e-b32c4808b839",
   "metadata": {},
   "outputs": [
    {
     "name": "stdout",
     "output_type": "stream",
     "text": [
      "We are the so-called \"Vikings\" from the north.\n"
     ]
    }
   ],
   "source": [
    "txt = \"We are the so-called \\\"Vikings\\\" from the north.\"\n",
    "print(txt)"
   ]
  },
  {
   "cell_type": "code",
   "execution_count": 183,
   "id": "66d772d7-49fd-423e-832d-77d162dec991",
   "metadata": {},
   "outputs": [
    {
     "name": "stdout",
     "output_type": "stream",
     "text": [
      "It's alright.\n"
     ]
    }
   ],
   "source": [
    "# 1. single quote\n",
    "txt = 'It\\'s alright.'\n",
    "print(txt) \n"
   ]
  },
  {
   "cell_type": "code",
   "execution_count": 185,
   "id": "fc7330d2-380e-42b3-8e87-a7d7156a5d10",
   "metadata": {},
   "outputs": [
    {
     "name": "stdout",
     "output_type": "stream",
     "text": [
      "This will insert one \\ (backslash).\n"
     ]
    }
   ],
   "source": [
    "# 2. backslash\n",
    "txt = \"This will insert one \\\\ (backslash).\"\n",
    "print(txt) \n"
   ]
  },
  {
   "cell_type": "code",
   "execution_count": 187,
   "id": "1b0819f4-7855-4eab-abce-9f3f1b848a5b",
   "metadata": {},
   "outputs": [
    {
     "name": "stdout",
     "output_type": "stream",
     "text": [
      "Hello\n",
      "World!\n"
     ]
    }
   ],
   "source": [
    "# 3. New Line\n",
    "txt = \"Hello\\nWorld!\"\n",
    "print(txt) "
   ]
  },
  {
   "cell_type": "code",
   "execution_count": 189,
   "id": "2aaefb51-91a7-4402-8c55-a4342c864733",
   "metadata": {},
   "outputs": [
    {
     "name": "stdout",
     "output_type": "stream",
     "text": [
      "World!\n"
     ]
    }
   ],
   "source": [
    "# 4. Carriage Return\n",
    "txt = \"Hello\\rWorld!\"\n",
    "print(txt) #carriage return returns the cursor to the start position. so text after carriage return replaces the original from start position.\n"
   ]
  },
  {
   "cell_type": "code",
   "execution_count": 193,
   "id": "fa86fce9-a702-42cf-8eac-7ff0c0fea56d",
   "metadata": {},
   "outputs": [
    {
     "name": "stdout",
     "output_type": "stream",
     "text": [
      "Merlin\n"
     ]
    }
   ],
   "source": [
    "txt = \"Berlin\\rMe\"\n",
    "print(txt) "
   ]
  },
  {
   "cell_type": "code",
   "execution_count": 195,
   "id": "34840c17-1022-4947-9952-c64f59afdda9",
   "metadata": {},
   "outputs": [
    {
     "name": "stdout",
     "output_type": "stream",
     "text": [
      "Hello\tWorld!\n"
     ]
    }
   ],
   "source": [
    "# 5. Tab\n",
    "txt = \"Hello\\tWorld!\"\n",
    "print(txt) "
   ]
  },
  {
   "cell_type": "code",
   "execution_count": 199,
   "id": "caddea35-f645-4100-b579-efd96f69c7bd",
   "metadata": {},
   "outputs": [
    {
     "name": "stdout",
     "output_type": "stream",
     "text": [
      "HelloWorld!\n"
     ]
    }
   ],
   "source": [
    "# 6. Backspace  - This example erases one character (backspace):\n",
    "txt = \"Hello \\bWorld!\"\n",
    "print(txt) #remove the space here"
   ]
  },
  {
   "cell_type": "markdown",
   "id": "2959d464-e56b-4f94-8630-3a64c8edc5c4",
   "metadata": {},
   "source": [
    "### 5. STRING FORMAT"
   ]
  },
  {
   "cell_type": "code",
   "execution_count": 203,
   "id": "ef1fed4f-8537-41c3-8c29-a3ebeaa8337d",
   "metadata": {},
   "outputs": [
    {
     "ename": "TypeError",
     "evalue": "can only concatenate str (not \"int\") to str",
     "output_type": "error",
     "traceback": [
      "\u001b[1;31m---------------------------------------------------------------------------\u001b[0m",
      "\u001b[1;31mTypeError\u001b[0m                                 Traceback (most recent call last)",
      "Cell \u001b[1;32mIn[203], line 4\u001b[0m\n\u001b[0;32m      2\u001b[0m age \u001b[38;5;241m=\u001b[39m \u001b[38;5;241m36\u001b[39m\n\u001b[0;32m      3\u001b[0m \u001b[38;5;66;03m#This will produce an error:\u001b[39;00m\n\u001b[1;32m----> 4\u001b[0m txt \u001b[38;5;241m=\u001b[39m \u001b[38;5;124m\"\u001b[39m\u001b[38;5;124mMy name is John, I am \u001b[39m\u001b[38;5;124m\"\u001b[39m \u001b[38;5;241m+\u001b[39m age\n\u001b[0;32m      5\u001b[0m \u001b[38;5;28mprint\u001b[39m(txt)\n",
      "\u001b[1;31mTypeError\u001b[0m: can only concatenate str (not \"int\") to str"
     ]
    }
   ],
   "source": [
    "#we cannot combine strings and numbers\n",
    "age = 36\n",
    "#This will produce an error:\n",
    "txt = \"My name is John, I am \" + age\n",
    "print(txt)"
   ]
  },
  {
   "cell_type": "code",
   "execution_count": 205,
   "id": "da6c6e9a-f5f9-4132-9d85-3cd393302ca0",
   "metadata": {},
   "outputs": [
    {
     "name": "stdout",
     "output_type": "stream",
     "text": [
      "My name is John, I am 36\n"
     ]
    }
   ],
   "source": [
    "# 1. F-STRINGS - preferred way of formatting strings\n",
    "# put an f in front of the string literal, and add curly brackets {} as placeholders for variables and other operations.\n",
    "age = 36\n",
    "txt = f\"My name is John, I am {age}\"\n",
    "print(txt)"
   ]
  },
  {
   "cell_type": "code",
   "execution_count": 207,
   "id": "84255d6d-70e2-44a9-bf33-c2e6a407d39d",
   "metadata": {},
   "outputs": [
    {
     "name": "stdout",
     "output_type": "stream",
     "text": [
      "The price is 59.00 dollars\n"
     ]
    }
   ],
   "source": [
    "price = 59\n",
    "txt = f\"The price is {price:.2f} dollars\" #Display the price with 2 decimals\n",
    "print(txt)"
   ]
  },
  {
   "cell_type": "code",
   "execution_count": 209,
   "id": "31bcfe56-23dd-44bf-92b6-40eb54d4ca96",
   "metadata": {},
   "outputs": [
    {
     "name": "stdout",
     "output_type": "stream",
     "text": [
      "The price is 1180 dollars\n"
     ]
    }
   ],
   "source": [
    "txt = f\"The price is {20 * 59} dollars\" #Perform a math operation in the placeholder, and return the result\n",
    "print(txt) "
   ]
  },
  {
   "cell_type": "code",
   "execution_count": 213,
   "id": "41967cd5-b633-4011-a1ae-ac0a5665ec0d",
   "metadata": {},
   "outputs": [
    {
     "name": "stdout",
     "output_type": "stream",
     "text": [
      "My name is Athul and I am 25 years old.\n"
     ]
    }
   ],
   "source": [
    "name = \"Athul\"\n",
    "age = 25\n",
    "print(f\"My name is {name} and I am {age} years old.\")"
   ]
  },
  {
   "cell_type": "code",
   "execution_count": 211,
   "id": "034cf869-608c-4c53-83fa-bf0cd3fd34e1",
   "metadata": {},
   "outputs": [
    {
     "name": "stdout",
     "output_type": "stream",
     "text": [
      "Hello, Athul!\n"
     ]
    }
   ],
   "source": [
    "# 2. FORMAT method - format()\n",
    "print(\"Hello, {}!\".format(\"Athul\"))"
   ]
  },
  {
   "cell_type": "code",
   "execution_count": 219,
   "id": "19244efd-0bfe-44ae-81b0-a16ecfcda4c3",
   "metadata": {},
   "outputs": [
    {
     "name": "stdout",
     "output_type": "stream",
     "text": [
      "Name: Athul\n",
      "Age: 24\n"
     ]
    }
   ],
   "source": [
    "# 3. using + \n",
    "name = \"Athul\"\n",
    "age = 24\n",
    "print(\"Name: \" + name)\n",
    "print(\"Age: \" + str(age))"
   ]
  },
  {
   "cell_type": "code",
   "execution_count": null,
   "id": "0e76771c-4b87-40ae-8297-13bbe2156864",
   "metadata": {},
   "outputs": [],
   "source": []
  }
 ],
 "metadata": {
  "kernelspec": {
   "display_name": "Python 3 (ipykernel)",
   "language": "python",
   "name": "python3"
  },
  "language_info": {
   "codemirror_mode": {
    "name": "ipython",
    "version": 3
   },
   "file_extension": ".py",
   "mimetype": "text/x-python",
   "name": "python",
   "nbconvert_exporter": "python",
   "pygments_lexer": "ipython3",
   "version": "3.12.4"
  }
 },
 "nbformat": 4,
 "nbformat_minor": 5
}
