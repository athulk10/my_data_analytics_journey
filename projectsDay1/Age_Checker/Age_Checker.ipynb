{
 "cells": [
  {
   "cell_type": "code",
   "execution_count": 1,
   "id": "bf181643-dd12-407a-857f-aa57dcdd9fd3",
   "metadata": {},
   "outputs": [
    {
     "name": "stdout",
     "output_type": "stream",
     "text": [
      "Welcome to the Age Checker!\n"
     ]
    },
    {
     "name": "stdin",
     "output_type": "stream",
     "text": [
      "Enter your name:  Athul\n",
      "Enter the current year:  2025\n",
      "Enter your birth year:  1995\n"
     ]
    },
    {
     "name": "stdout",
     "output_type": "stream",
     "text": [
      "------ Summary for Athul ------\n",
      "You are 30 years old.\n",
      "You will turn 100 in 70 years.\n",
      "Are you 18 or older? ➤ True\n",
      "Are you a senior citizen (60+)? ➤ False\n",
      "Type of name: <class 'str'>\n",
      "Type of age: <class 'int'>\n",
      "Type of is_adult: <class 'bool'>\n",
      "Type of is_senior: <class 'bool'>\n"
     ]
    }
   ],
   "source": [
    "# Age Checker\n",
    "\n",
    "# Welcome Message\n",
    "print(\"Welcome to the Age Checker!\")\n",
    "\n",
    "# Ask for user info\n",
    "name = input(\"Enter your name: \")\n",
    "current_year = int(input(\"Enter the current year: \"))\n",
    "birth_year = int(input(\"Enter your birth year: \"))\n",
    "\n",
    "# Calculate age\n",
    "age = current_year - birth_year\n",
    "years_to_100 = 100 - age\n",
    "is_adult = age >= 18\n",
    "is_senior = age >= 60\n",
    "\n",
    "# Output the results\n",
    "print(\"------ Summary for\", name, \"------\")\n",
    "print(\"You are\", age, \"years old.\")\n",
    "print(\"You will turn 100 in\", years_to_100, \"years.\")\n",
    "print(\"Are you 18 or older? ➤\", is_adult)\n",
    "print(\"Are you a senior citizen (60+)? ➤\", is_senior)\n",
    "\n",
    "# Show types (for practice)\n",
    "print(\"Type of name:\", type(name))\n",
    "print(\"Type of age:\", type(age))\n",
    "print(\"Type of is_adult:\", type(is_adult))\n",
    "print(\"Type of is_senior:\", type(is_senior))\n"
   ]
  },
  {
   "cell_type": "code",
   "execution_count": null,
   "id": "d34f2cba-b6fa-4f09-834a-e356c5899030",
   "metadata": {},
   "outputs": [],
   "source": []
  }
 ],
 "metadata": {
  "kernelspec": {
   "display_name": "Python 3 (ipykernel)",
   "language": "python",
   "name": "python3"
  },
  "language_info": {
   "codemirror_mode": {
    "name": "ipython",
    "version": 3
   },
   "file_extension": ".py",
   "mimetype": "text/x-python",
   "name": "python",
   "nbconvert_exporter": "python",
   "pygments_lexer": "ipython3",
   "version": "3.12.4"
  }
 },
 "nbformat": 4,
 "nbformat_minor": 5
}
