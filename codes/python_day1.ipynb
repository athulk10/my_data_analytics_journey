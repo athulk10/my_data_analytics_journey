{
 "cells": [
  {
   "cell_type": "markdown",
   "id": "61c1c6c7-3448-42b8-b0ee-f7dd0c1b452e",
   "metadata": {},
   "source": [
    "# PYTHON"
   ]
  },
  {
   "cell_type": "markdown",
   "id": "51909a96-3314-461b-8ad3-95ffcc1beae2",
   "metadata": {},
   "source": [
    "### Python Comments"
   ]
  },
  {
   "cell_type": "code",
   "execution_count": 11,
   "id": "d4e9c9f1-a682-4fa6-b457-23582be1c997",
   "metadata": {},
   "outputs": [],
   "source": [
    "# 1. Single line Comments\n",
    "#this is a comment. we use '#' to create comments in Python\n",
    "#comments used to explain python codes and make it more readable\n",
    "\n",
    "# 2. Multi line Comments\n",
    "#this is \n",
    "#a comment written in\n",
    "#multiple lines\n",
    "\n",
    "#no special syntax for multiple comments\n",
    "\n",
    "#3 \"\"\"   \"\"\"\n",
    "#sometimes multiline comments are used inside \"\"\"   \"\"\" . its not actual syntax. but ignored"
   ]
  },
  {
   "cell_type": "markdown",
   "id": "08b5ae1d-52be-4c68-a5ab-b240a506e83b",
   "metadata": {},
   "source": [
    "### Print Statement"
   ]
  },
  {
   "cell_type": "code",
   "execution_count": 13,
   "id": "7635d045-e0d5-4d93-88af-25e2c448eba7",
   "metadata": {},
   "outputs": [
    {
     "name": "stdout",
     "output_type": "stream",
     "text": [
      "Hello\n"
     ]
    }
   ],
   "source": [
    "#PRINT statement\n",
    "print(\"Hello\") #prints text or results to the screen so you can see them."
   ]
  },
  {
   "cell_type": "code",
   "execution_count": 15,
   "id": "70f0d6bf-fd5a-43a1-8d99-fa77ec40ef28",
   "metadata": {},
   "outputs": [
    {
     "name": "stdout",
     "output_type": "stream",
     "text": [
      "10\n"
     ]
    }
   ],
   "source": [
    "print(10) #printing a number"
   ]
  },
  {
   "cell_type": "code",
   "execution_count": 19,
   "id": "26d4aa42-507d-472b-9cfd-844e0ff2c6f4",
   "metadata": {},
   "outputs": [
    {
     "name": "stdout",
     "output_type": "stream",
     "text": [
      "13\n"
     ]
    }
   ],
   "source": [
    "print(5 + 8) #print math results"
   ]
  },
  {
   "cell_type": "code",
   "execution_count": 21,
   "id": "1d620479-8d4d-4db1-bd15-80187c90bc09",
   "metadata": {},
   "outputs": [
    {
     "name": "stdout",
     "output_type": "stream",
     "text": [
      "i am 5 years old\n"
     ]
    }
   ],
   "source": [
    "print(\"i am\", 5, \"years old\") #print multiple things"
   ]
  },
  {
   "cell_type": "markdown",
   "id": "7809e62d-6c9a-4a3f-ade9-f139c6f2e320",
   "metadata": {},
   "source": [
    "### VARIABLES & ASSIGNMENT"
   ]
  },
  {
   "cell_type": "code",
   "execution_count": 23,
   "id": "be6959ce-f980-4ddf-8968-875ff31ca1ab",
   "metadata": {},
   "outputs": [],
   "source": [
    "#variable - a container to store values\n",
    "name = \"Athul\"\n",
    "age = 25\n",
    "height = 5.9\n",
    "is_student = True\n",
    "#pyhton is dynamically typed – no need to declare data types explicitly.variable is created the moment you first assign a value to it.\n"
   ]
  },
  {
   "cell_type": "code",
   "execution_count": 21,
   "id": "079b4f98-ff98-4669-8b00-a10c0a0465fb",
   "metadata": {},
   "outputs": [
    {
     "name": "stdout",
     "output_type": "stream",
     "text": [
      "Athul\n",
      "25\n",
      "5.9\n",
      "True\n"
     ]
    }
   ],
   "source": [
    "print(name)\n",
    "print(age)\n",
    "print(height)\n",
    "print(is_student)"
   ]
  },
  {
   "cell_type": "code",
   "execution_count": 25,
   "id": "d75a2c9c-dd7d-4afb-9bba-72ee8da8ec14",
   "metadata": {},
   "outputs": [],
   "source": [
    "# Variable Name Rules \n",
    "#1. start with letter or underscore\n",
    "#2. not start with number\n",
    "#3. has only alphanumeric and underscore\n",
    "#4. Case-Sensitive\n",
    "#5. not python keywords\n",
    "\n",
    "#multiword variable naming\n",
    "#1. Camel Case- myVariableName = 'Athul' first letter of all words except firt word is capital\n",
    "#2. Pascal Case- MyVariableName= 'Athul' first letter of all words capital\n",
    "#3. Snake Case- my_variable_name = 'Athul' underscore btw each word"
   ]
  },
  {
   "cell_type": "code",
   "execution_count": 27,
   "id": "d76a73f6-2f6c-4ec6-ac4d-b7fd100e3fa9",
   "metadata": {},
   "outputs": [
    {
     "ename": "SyntaxError",
     "evalue": "invalid decimal literal (1206151212.py, line 1)",
     "output_type": "error",
     "traceback": [
      "\u001b[1;36m  Cell \u001b[1;32mIn[27], line 1\u001b[1;36m\u001b[0m\n\u001b[1;33m    2a = 40\u001b[0m\n\u001b[1;37m    ^\u001b[0m\n\u001b[1;31mSyntaxError\u001b[0m\u001b[1;31m:\u001b[0m invalid decimal literal\n"
     ]
    }
   ],
   "source": [
    "2a = 40 #rule 2 and 1"
   ]
  },
  {
   "cell_type": "code",
   "execution_count": 29,
   "id": "3520aadd-b525-42ad-a3c7-2d02110cbf37",
   "metadata": {},
   "outputs": [
    {
     "ename": "SyntaxError",
     "evalue": "invalid syntax (958999881.py, line 1)",
     "output_type": "error",
     "traceback": [
      "\u001b[1;36m  Cell \u001b[1;32mIn[29], line 1\u001b[1;36m\u001b[0m\n\u001b[1;33m    $a=5\u001b[0m\n\u001b[1;37m    ^\u001b[0m\n\u001b[1;31mSyntaxError\u001b[0m\u001b[1;31m:\u001b[0m invalid syntax\n"
     ]
    }
   ],
   "source": [
    "$a=5 #rule 3"
   ]
  },
  {
   "cell_type": "code",
   "execution_count": 33,
   "id": "e723fb1c-56b9-48d6-a084-3d1d3f3f8d30",
   "metadata": {},
   "outputs": [
    {
     "ename": "NameError",
     "evalue": "name 'A' is not defined",
     "output_type": "error",
     "traceback": [
      "\u001b[1;31m---------------------------------------------------------------------------\u001b[0m",
      "\u001b[1;31mNameError\u001b[0m                                 Traceback (most recent call last)",
      "Cell \u001b[1;32mIn[33], line 2\u001b[0m\n\u001b[0;32m      1\u001b[0m a\u001b[38;5;241m=\u001b[39m\u001b[38;5;241m1\u001b[39m\n\u001b[1;32m----> 2\u001b[0m \u001b[38;5;28mprint\u001b[39m(A)\n",
      "\u001b[1;31mNameError\u001b[0m: name 'A' is not defined"
     ]
    }
   ],
   "source": [
    "a=1\n",
    "print(A) #rule 4 Case Sensitive"
   ]
  },
  {
   "cell_type": "code",
   "execution_count": 1,
   "id": "69392ccb-886f-4d4a-9629-79d4b9da6033",
   "metadata": {},
   "outputs": [],
   "source": [
    "a = 1\n",
    "a = 2\n",
    "a = 3\n",
    "a = 4\n",
    "A = 4\n",
    "a = A"
   ]
  },
  {
   "cell_type": "code",
   "execution_count": 5,
   "id": "171b777c-45ab-46a7-b205-f3324230d4ac",
   "metadata": {},
   "outputs": [
    {
     "name": "stdout",
     "output_type": "stream",
     "text": [
      "4\n",
      "4\n"
     ]
    }
   ],
   "source": [
    "print(a)\n",
    "print(A)"
   ]
  },
  {
   "cell_type": "code",
   "execution_count": 9,
   "id": "97445d3c-3877-4ae3-92ea-b42bd72e3e85",
   "metadata": {},
   "outputs": [
    {
     "name": "stdout",
     "output_type": "stream",
     "text": [
      "25\n",
      "25\n",
      "25\n"
     ]
    }
   ],
   "source": [
    "a = b = c = 25 #assign same value to multiple variables\n",
    "print(a)\n",
    "print(b)\n",
    "print(c)"
   ]
  },
  {
   "cell_type": "code",
   "execution_count": 27,
   "id": "5838b864-ddb0-4717-95c7-a302bf209f96",
   "metadata": {},
   "outputs": [
    {
     "name": "stdout",
     "output_type": "stream",
     "text": [
      "Orange\n",
      "Banana\n",
      "Cherry\n"
     ]
    }
   ],
   "source": [
    "x, y, z = \"Orange\", \"Banana\", \"Cherry\"   #assign multiple values to multiple variables\n",
    "print(x)\n",
    "print(y)\n",
    "print(z)"
   ]
  },
  {
   "cell_type": "code",
   "execution_count": 11,
   "id": "6bc726e2-660d-4812-9bbc-dfef1a37f4c0",
   "metadata": {},
   "outputs": [
    {
     "name": "stdout",
     "output_type": "stream",
     "text": [
      "Python is awesome\n"
     ]
    }
   ],
   "source": [
    "#print() function is often used to output variables\n",
    "x = \"Python is awesome\"\n",
    "print(x)"
   ]
  },
  {
   "cell_type": "code",
   "execution_count": 25,
   "id": "96633d72-0ccc-41b9-889e-8029e08f1b3e",
   "metadata": {},
   "outputs": [
    {
     "name": "stdout",
     "output_type": "stream",
     "text": [
      "Python is awesome\n",
      "Python\n",
      "is\n",
      "awesome\n"
     ]
    }
   ],
   "source": [
    "x = \"Python\"\n",
    "y = \"is\"\n",
    "z = \"awesome\"\n",
    "print(x, y, z)   #output multiple variables using comma\n",
    "print(x)\n",
    "print(y)\n",
    "print(z)"
   ]
  },
  {
   "cell_type": "code",
   "execution_count": 15,
   "id": "d45caf6c-e0c2-4d38-b945-649fe33e0583",
   "metadata": {},
   "outputs": [
    {
     "name": "stdout",
     "output_type": "stream",
     "text": [
      "Python is awesome\n"
     ]
    }
   ],
   "source": [
    "x = \"Python \"\n",
    "y = \"is \"\n",
    "z = \"awesome\"\n",
    "print(x + y + z)  #output multiple variables using +"
   ]
  },
  {
   "cell_type": "code",
   "execution_count": 31,
   "id": "8ca9a219-13a4-4df6-8c15-8a43d4d58895",
   "metadata": {},
   "outputs": [
    {
     "name": "stdout",
     "output_type": "stream",
     "text": [
      "5 John\n"
     ]
    },
    {
     "ename": "TypeError",
     "evalue": "unsupported operand type(s) for +: 'int' and 'str'",
     "output_type": "error",
     "traceback": [
      "\u001b[1;31m---------------------------------------------------------------------------\u001b[0m",
      "\u001b[1;31mTypeError\u001b[0m                                 Traceback (most recent call last)",
      "Cell \u001b[1;32mIn[31], line 4\u001b[0m\n\u001b[0;32m      2\u001b[0m y \u001b[38;5;241m=\u001b[39m \u001b[38;5;124m\"\u001b[39m\u001b[38;5;124mJohn\u001b[39m\u001b[38;5;124m\"\u001b[39m\n\u001b[0;32m      3\u001b[0m \u001b[38;5;28mprint\u001b[39m(x, y) \u001b[38;5;66;03m#comma is best because different datatypes can be used here\u001b[39;00m\n\u001b[1;32m----> 4\u001b[0m \u001b[38;5;28mprint\u001b[39m(x \u001b[38;5;241m+\u001b[39m y)\n",
      "\u001b[1;31mTypeError\u001b[0m: unsupported operand type(s) for +: 'int' and 'str'"
     ]
    }
   ],
   "source": [
    "x = 5\n",
    "y = \"John\"\n",
    "print(x, y) #comma is best because different datatypes can be used here\n",
    "print(x + y) #different datatypes not possible. so error"
   ]
  },
  {
   "cell_type": "code",
   "execution_count": 35,
   "id": "60552fe8-dee7-4b41-9a16-eaf96eedf133",
   "metadata": {},
   "outputs": [
    {
     "name": "stdout",
     "output_type": "stream",
     "text": [
      "Python is awesome\n"
     ]
    }
   ],
   "source": [
    "#Global Variables\n",
    "#variables created outside a function. can be used inside and outside function\n",
    "x = \"awesome\" #global variable\n",
    "\n",
    "def myfunc():   #function definition\n",
    "  print(\"Python is \" + x)\n",
    "\n",
    "myfunc() #calling the function"
   ]
  },
  {
   "cell_type": "code",
   "execution_count": 37,
   "id": "59077a8d-f339-42e1-8d4f-21f8a799a7fc",
   "metadata": {},
   "outputs": [
    {
     "name": "stdout",
     "output_type": "stream",
     "text": [
      "Python is fantastic\n"
     ]
    }
   ],
   "source": [
    "#Global Keryword - to create global variable inside a function. variable inside funcion is generally Local.\n",
    "def myfunc():\n",
    "  global x\n",
    "  x = \"fantastic\"\n",
    "\n",
    "myfunc()\n",
    "\n",
    "print(\"Python is \" + x)"
   ]
  },
  {
   "cell_type": "code",
   "execution_count": 45,
   "id": "c1005624-704e-4f72-a751-a8ae1c945f02",
   "metadata": {},
   "outputs": [
    {
     "name": "stdout",
     "output_type": "stream",
     "text": [
      "Python is awesome\n",
      "Python is fantastic\n"
     ]
    }
   ],
   "source": [
    "# GLobal keyword can also be used to change the value of a global variable inside a function.\n",
    "x = \"awesome\"  #global variable\n",
    "\n",
    "def myfunc():  \n",
    "  global x #declarin a global variable using global keyword\n",
    "  print(\"Python is \" + x) #print before changing the value ofglobal variable\n",
    "  x = \"fantastic\"\n",
    "\n",
    "myfunc()\n",
    "\n",
    "print(\"Python is \" + x)"
   ]
  },
  {
   "cell_type": "markdown",
   "id": "d3662731-f698-43ff-b0d0-6d234367062c",
   "metadata": {},
   "source": [
    "### Taking User Input"
   ]
  },
  {
   "cell_type": "code",
   "execution_count": 79,
   "id": "aa2e3217-c338-4388-8390-e24f8ebb1c02",
   "metadata": {},
   "outputs": [
    {
     "name": "stdin",
     "output_type": "stream",
     "text": [
      "Enter your name:  Athul\n"
     ]
    },
    {
     "name": "stdout",
     "output_type": "stream",
     "text": [
      "Hello Athul\n"
     ]
    }
   ],
   "source": [
    "name = input(\"Enter your name: \") # to enter user input we use input() function \n",
    "print(\"Hello\", name)"
   ]
  },
  {
   "cell_type": "code",
   "execution_count": 81,
   "id": "2b830f2a-d0ca-456e-8817-b105e6e259ae",
   "metadata": {},
   "outputs": [
    {
     "name": "stdin",
     "output_type": "stream",
     "text": [
      "Enter your age:  25\n"
     ]
    },
    {
     "name": "stdout",
     "output_type": "stream",
     "text": [
      "Next year you’ll be 26\n"
     ]
    }
   ],
   "source": [
    "#By default, input() returns a string. Use int() or float() to convert types\n",
    "age = int(input(\"Enter your age: \"))\n",
    "print(\"Next year you’ll be\", age + 1)\n"
   ]
  },
  {
   "cell_type": "code",
   "execution_count": 3,
   "id": "7cdc6d49-4935-47e6-a78e-a5e762c6cafc",
   "metadata": {},
   "outputs": [
    {
     "name": "stdin",
     "output_type": "stream",
     "text": [
      "Enter your name:  athul\n",
      "Enter your birth year:  1995\n"
     ]
    },
    {
     "name": "stdout",
     "output_type": "stream",
     "text": [
      "Hi athul you are 30 years old.\n"
     ]
    }
   ],
   "source": [
    "name = input(\"Enter your name: \")\n",
    "birth_year = int(input(\"Enter your birth year: \"))\n",
    "\n",
    "current_year = 2025\n",
    "age = current_year - birth_year\n",
    "\n",
    "print(\"Hi\",name,\"you are\",age,\"years old.\")\n"
   ]
  },
  {
   "cell_type": "markdown",
   "id": "7e31bacd-b379-4b5b-b51e-009b67db1a43",
   "metadata": {},
   "source": [
    "### Basic Datatypes"
   ]
  },
  {
   "cell_type": "code",
   "execution_count": null,
   "id": "e897aca8-ae19-434b-a7ca-2894de3c89ef",
   "metadata": {},
   "outputs": [],
   "source": [
    "#string\n",
    "#integer\n",
    "#float\n",
    "#boolean"
   ]
  },
  {
   "cell_type": "code",
   "execution_count": 49,
   "id": "cb67bc75-9121-4847-8845-051686dd5caa",
   "metadata": {},
   "outputs": [
    {
     "name": "stdout",
     "output_type": "stream",
     "text": [
      "<class 'str'>\n",
      "<class 'int'>\n",
      "<class 'float'>\n",
      "<class 'bool'>\n"
     ]
    }
   ],
   "source": [
    "#type() - this functions give the datetype of the variable\n",
    "print(type(\"Hi\"))\n",
    "print(type(5))\n",
    "print(type(5.0))\n",
    "print(type(True))\n"
   ]
  },
  {
   "cell_type": "code",
   "execution_count": 90,
   "id": "8c882e23-86d0-42fb-a48e-1e0b93b19d9b",
   "metadata": {},
   "outputs": [],
   "source": [
    "##### Exercises"
   ]
  },
  {
   "cell_type": "code",
   "execution_count": 94,
   "id": "63310a02-671b-4dfd-898b-e1900e335cec",
   "metadata": {},
   "outputs": [
    {
     "name": "stdout",
     "output_type": "stream",
     "text": [
      "Athul\n",
      "30\n",
      "railway\n"
     ]
    }
   ],
   "source": [
    "# 1.Print your name, age, and profession.\n",
    "print(\"Athul\")\n",
    "print(30)\n",
    "print(\"railway\")"
   ]
  },
  {
   "cell_type": "code",
   "execution_count": 102,
   "id": "3fc01789-1442-489e-a9e9-2d7cce222ee0",
   "metadata": {},
   "outputs": [
    {
     "name": "stdin",
     "output_type": "stream",
     "text": [
      "enter the first number 25\n",
      "enter the second number 50\n"
     ]
    },
    {
     "name": "stdout",
     "output_type": "stream",
     "text": [
      "sum is 75\n"
     ]
    }
   ],
   "source": [
    "# 2. Take input from a user for two numbers and print their sum.\n",
    "a = int(input(\"enter the first number\"))\n",
    "b = int(input(\"enter the second number\"))\n",
    "print(\"sum is\",a + b)"
   ]
  },
  {
   "cell_type": "code",
   "execution_count": 104,
   "id": "9a99e047-5d1e-49bb-a5d2-37fe96a741da",
   "metadata": {},
   "outputs": [
    {
     "name": "stdin",
     "output_type": "stream",
     "text": [
      "enter birth year 1995\n"
     ]
    },
    {
     "name": "stdout",
     "output_type": "stream",
     "text": [
      "your age is 30\n"
     ]
    }
   ],
   "source": [
    "# 3. Ask for someone's birth year and calculate their age.\n",
    "b_year = int(input(\"enter birth year\"))\n",
    "print(\"your age is\",2025 - b_year)"
   ]
  },
  {
   "cell_type": "code",
   "execution_count": 106,
   "id": "aa19e382-914c-46eb-b33a-79e21aba43bf",
   "metadata": {},
   "outputs": [
    {
     "name": "stdout",
     "output_type": "stream",
     "text": [
      "<class 'int'>\n",
      "<class 'str'>\n",
      "<class 'float'>\n",
      "<class 'bool'>\n",
      "<class 'str'>\n"
     ]
    }
   ],
   "source": [
    "# 4. Determine the type of 5 different variables using type().\n",
    "a = 5\n",
    "b ='Athul'\n",
    "c = 10.4\n",
    "d = 10>12\n",
    "e = \"string\"\n",
    "print(type(a))\n",
    "print(type(b))\n",
    "print(type(c))\n",
    "print(type(d))\n",
    "print(type(e))"
   ]
  },
  {
   "cell_type": "code",
   "execution_count": 110,
   "id": "e0025add-79d4-4d09-b578-ada90732c7a3",
   "metadata": {},
   "outputs": [
    {
     "name": "stdin",
     "output_type": "stream",
     "text": [
      "enter your name Athul\n",
      "enter your birth year 1995\n"
     ]
    },
    {
     "name": "stdout",
     "output_type": "stream",
     "text": [
      "Hi Athul you are 30 years old\n"
     ]
    }
   ],
   "source": [
    "\"\"\" Write a short program that:\n",
    "Asks the user for their name\n",
    "Asks for their birth year\n",
    "Calculates their current age\n",
    "Prints this message: Hi [Name], you are [Age] years old! \"\"\" \n",
    "\n",
    "name = input(\"enter your name\")\n",
    "b_year = int(input(\"enter your birth year\"))\n",
    "print(\"Hi\",name,\"you are\",2025-b_year,\"years old\")"
   ]
  },
  {
   "cell_type": "markdown",
   "id": "1b266d56-9d17-458c-8195-cfc8b0ae3ab5",
   "metadata": {},
   "source": [
    "###### Integer"
   ]
  },
  {
   "cell_type": "code",
   "execution_count": 28,
   "id": "6dbbda6b-b012-4121-a1c9-2bf8110a0f64",
   "metadata": {},
   "outputs": [
    {
     "data": {
      "text/plain": [
       "int"
      ]
     },
     "execution_count": 28,
     "metadata": {},
     "output_type": "execute_result"
    }
   ],
   "source": [
    "#integers :- numbers without decimal values\n",
    "a = 1#create variable a and assign value 1 to it\n",
    "type(a) #returns the datatype of the variable\n"
   ]
  },
  {
   "cell_type": "code",
   "execution_count": 30,
   "id": "bb2286d3-8cf8-4003-8a68-0f1b49b2a9af",
   "metadata": {},
   "outputs": [
    {
     "name": "stdout",
     "output_type": "stream",
     "text": [
      "<class 'int'>\n",
      "<class 'int'>\n",
      "<class 'int'>\n"
     ]
    }
   ],
   "source": [
    "x = 1\n",
    "y = 35656222554887711\n",
    "z = -3255522\n",
    "\n",
    "print(type(x))\n",
    "print(type(y))\n",
    "print(type(z))"
   ]
  },
  {
   "cell_type": "markdown",
   "id": "88d02cc7-0fa1-44f6-937b-b2bad6faff87",
   "metadata": {},
   "source": [
    "##### Floats"
   ]
  },
  {
   "cell_type": "code",
   "execution_count": 33,
   "id": "7948302f-9758-450f-85ef-7e73ecf0ceae",
   "metadata": {},
   "outputs": [
    {
     "name": "stdout",
     "output_type": "stream",
     "text": [
      "<class 'float'>\n",
      "<class 'float'>\n",
      "<class 'float'>\n"
     ]
    }
   ],
   "source": [
    "#floats - numbers with decimal\n",
    "x = 1.10\n",
    "y = 1.0\n",
    "z = -35.59\n",
    "\n",
    "print(type(x))\n",
    "print(type(y))\n",
    "print(type(z))"
   ]
  },
  {
   "cell_type": "code",
   "execution_count": 35,
   "id": "ce0eecda-1346-42b6-9c68-8cbcf06ec546",
   "metadata": {},
   "outputs": [
    {
     "name": "stdout",
     "output_type": "stream",
     "text": [
      "<class 'float'>\n",
      "<class 'float'>\n",
      "<class 'float'>\n"
     ]
    }
   ],
   "source": [
    "x = 35e3\n",
    "y = 12E4\n",
    "z = -87.7e100\n",
    "\n",
    "print(type(x))\n",
    "print(type(y))\n",
    "print(type(z))"
   ]
  },
  {
   "cell_type": "code",
   "execution_count": 53,
   "id": "3642d27e-40f2-4e94-9cfe-edeaed0181ff",
   "metadata": {},
   "outputs": [
    {
     "name": "stdout",
     "output_type": "stream",
     "text": [
      "<class 'complex'>\n",
      "<class 'complex'>\n",
      "<class 'complex'>\n"
     ]
    }
   ],
   "source": [
    "#Complex\n",
    "x = 3+5j\n",
    "y = 5j\n",
    "z = -5j\n",
    "\n",
    "print(type(x))\n",
    "print(type(y))\n",
    "print(type(z))"
   ]
  },
  {
   "cell_type": "code",
   "execution_count": 51,
   "id": "fe844111-0b5e-4404-b081-ae4e58c122d0",
   "metadata": {},
   "outputs": [
    {
     "name": "stdout",
     "output_type": "stream",
     "text": [
      "1.0\n",
      "2\n",
      "(1+0j)\n",
      "<class 'float'>\n",
      "<class 'int'>\n",
      "<class 'complex'>\n"
     ]
    }
   ],
   "source": [
    "#converting to different types using int(),Float(),Complex()\n",
    "x = 1    # int\n",
    "y = 2.8  # float\n",
    "z = 1j   # complex\n",
    "\n",
    "#convert from int to float:\n",
    "a = float(x)\n",
    "\n",
    "#convert from float to int:\n",
    "b = int(y)\n",
    "\n",
    "#convert from int to complex:\n",
    "c = complex(x)\n",
    "\n",
    "print(a)\n",
    "print(b)\n",
    "print(c)\n",
    "\n",
    "print(type(a))\n",
    "print(type(b))\n",
    "print(type(c))"
   ]
  },
  {
   "cell_type": "code",
   "execution_count": 39,
   "id": "e90eb708-72e0-4cbc-80ea-6c609147ad51",
   "metadata": {},
   "outputs": [
    {
     "name": "stdout",
     "output_type": "stream",
     "text": [
      "100\n"
     ]
    }
   ],
   "source": [
    "a = 100.23 \n",
    "b = int(a) #type casting :- converting a datatype to other \n",
    "print(b) "
   ]
  },
  {
   "cell_type": "code",
   "execution_count": 43,
   "id": "11e71490-15d9-4f93-aee7-05e2f23956aa",
   "metadata": {},
   "outputs": [
    {
     "data": {
      "text/plain": [
       "4.0"
      ]
     },
     "execution_count": 43,
     "metadata": {},
     "output_type": "execute_result"
    }
   ],
   "source": [
    "5.0 - 1 #float - int = float   bcoz python takes float bcoz it has high  precedence"
   ]
  },
  {
   "cell_type": "code",
   "execution_count": 45,
   "id": "b1f7f02f-a69e-4e40-8422-16ee72aea20d",
   "metadata": {},
   "outputs": [
    {
     "data": {
      "text/plain": [
       "6.0"
      ]
     },
     "execution_count": 45,
     "metadata": {},
     "output_type": "execute_result"
    }
   ],
   "source": [
    "5 + 1.0 #addition"
   ]
  },
  {
   "cell_type": "code",
   "execution_count": 47,
   "id": "548b1eac-9d22-4b00-abb4-4c12edf204c7",
   "metadata": {},
   "outputs": [
    {
     "data": {
      "text/plain": [
       "10.0"
      ]
     },
     "execution_count": 47,
     "metadata": {},
     "output_type": "execute_result"
    }
   ],
   "source": [
    "5.0*2 #multiplication"
   ]
  },
  {
   "cell_type": "code",
   "execution_count": 49,
   "id": "47a095d0-fea6-4cff-895c-0dcd33e418fd",
   "metadata": {},
   "outputs": [
    {
     "data": {
      "text/plain": [
       "2.5"
      ]
     },
     "execution_count": 49,
     "metadata": {},
     "output_type": "execute_result"
    }
   ],
   "source": [
    "5 / 2 #division always gives float"
   ]
  },
  {
   "cell_type": "code",
   "execution_count": 51,
   "id": "d8efd96b-f2b2-419a-9d53-7430b13bac27",
   "metadata": {},
   "outputs": [
    {
     "data": {
      "text/plain": [
       "2.0"
      ]
     },
     "execution_count": 51,
     "metadata": {},
     "output_type": "execute_result"
    }
   ],
   "source": [
    "4 / 2"
   ]
  },
  {
   "cell_type": "code",
   "execution_count": 57,
   "id": "9dd4f1e8-54c9-4ddc-9eda-a691c73e181a",
   "metadata": {},
   "outputs": [
    {
     "name": "stdout",
     "output_type": "stream",
     "text": [
      "2\n"
     ]
    }
   ],
   "source": [
    "#random module\n",
    "import random\n",
    "\n",
    "print(random.randrange(1, 10))"
   ]
  },
  {
   "cell_type": "markdown",
   "id": "44130ea5-8808-42bb-bfa8-3c6c4fce8b91",
   "metadata": {},
   "source": [
    "##### Booleans"
   ]
  },
  {
   "cell_type": "code",
   "execution_count": 54,
   "id": "0d0656ac-8ab7-43da-a71d-4b0131b94e76",
   "metadata": {},
   "outputs": [],
   "source": [
    "#booleans :- outcome from a logical statement. TRUE or FALSE"
   ]
  },
  {
   "cell_type": "code",
   "execution_count": 56,
   "id": "a09ee718-b7b5-459d-8a13-6fc560c73453",
   "metadata": {},
   "outputs": [
    {
     "data": {
      "text/plain": [
       "True"
      ]
     },
     "execution_count": 56,
     "metadata": {},
     "output_type": "execute_result"
    }
   ],
   "source": [
    "10>0"
   ]
  },
  {
   "cell_type": "code",
   "execution_count": 58,
   "id": "b2d8b0e2-e0a1-43be-b045-329185b3a050",
   "metadata": {},
   "outputs": [
    {
     "data": {
      "text/plain": [
       "False"
      ]
     },
     "execution_count": 58,
     "metadata": {},
     "output_type": "execute_result"
    }
   ],
   "source": [
    "20>22"
   ]
  },
  {
   "cell_type": "code",
   "execution_count": 60,
   "id": "590da132-3048-4d3e-94af-826c9d19f9d5",
   "metadata": {},
   "outputs": [
    {
     "name": "stdout",
     "output_type": "stream",
     "text": [
      "True\n",
      "False\n",
      "False\n"
     ]
    }
   ],
   "source": [
    "print(10 > 9)\n",
    "print(10 == 9)\n",
    "print(10 < 9)"
   ]
  },
  {
   "cell_type": "code",
   "execution_count": 62,
   "id": "0ec9d2a4-0eca-44ec-9d4f-324fd75a93a1",
   "metadata": {},
   "outputs": [
    {
     "name": "stdout",
     "output_type": "stream",
     "text": [
      "b is not greater than a\n"
     ]
    }
   ],
   "source": [
    "a = 200\n",
    "b = 33\n",
    "\n",
    "if b > a:\n",
    "  print(\"b is greater than a\")\n",
    "else:\n",
    "  print(\"b is not greater than a\")"
   ]
  },
  {
   "cell_type": "code",
   "execution_count": 66,
   "id": "f83a2bd5-f5ca-469e-b6b9-bdd6f6ad0f53",
   "metadata": {},
   "outputs": [
    {
     "name": "stdout",
     "output_type": "stream",
     "text": [
      "True\n",
      "True\n",
      "False\n",
      "False\n"
     ]
    }
   ],
   "source": [
    "#The bool() function allows you to evaluate any value, and give you True or False in return,\n",
    "print(bool(\"Hello\"))\n",
    "print(bool(15))  #evaluate string and a number\n",
    "print(bool(0))\n",
    "print(bool(\"\"))"
   ]
  },
  {
   "cell_type": "code",
   "execution_count": 68,
   "id": "5765b589-36db-4b64-a7a5-8661e25958e3",
   "metadata": {},
   "outputs": [
    {
     "name": "stdout",
     "output_type": "stream",
     "text": [
      "True\n",
      "True\n",
      "False\n",
      "False\n"
     ]
    }
   ],
   "source": [
    "x = \"Hello\"\n",
    "y = 15\n",
    "a = ''\n",
    "b = 0\n",
    "\n",
    "print(bool(x))\n",
    "print(bool(y))\n",
    "print(bool(a))\n",
    "print(bool(b))"
   ]
  },
  {
   "cell_type": "code",
   "execution_count": 76,
   "id": "a6c6f5af-57b4-4ce1-a23b-f99ecd974606",
   "metadata": {},
   "outputs": [
    {
     "data": {
      "text/plain": [
       "False"
      ]
     },
     "execution_count": 76,
     "metadata": {},
     "output_type": "execute_result"
    }
   ],
   "source": [
    "#Almost any value is evaluated to True if it has some sort of content.\n",
    "#Any string is True, except empty strings.\n",
    "#Any number is True, except 0.\n",
    "#Any list, tuple, set, and dictionary are True, except empty ones.\n",
    "#The following will return False:\n",
    "bool(False)\n",
    "bool(None)\n",
    "bool(0)\n",
    "bool(\"\")\n",
    "bool(())\n",
    "bool([])\n",
    "bool({})"
   ]
  },
  {
   "cell_type": "markdown",
   "id": "8fe0be3b-ef7c-4ac4-9d4c-419f19f5516d",
   "metadata": {},
   "source": [
    "### Casting"
   ]
  },
  {
   "cell_type": "code",
   "execution_count": 60,
   "id": "226cd823-31d1-4140-a555-e9fd56642f2b",
   "metadata": {},
   "outputs": [
    {
     "name": "stdout",
     "output_type": "stream",
     "text": [
      "7\n"
     ]
    }
   ],
   "source": [
    "# changing one type to another\n",
    "\n",
    "#str to int\n",
    "x = \"5\"        # This is text, not a number\n",
    "y = int(x)     # Now y is a real number\n",
    "\n",
    "print(y + 2)   # Output: 7\n"
   ]
  },
  {
   "cell_type": "code",
   "execution_count": 62,
   "id": "7901bbcc-874d-4343-9165-0218bebc4ca7",
   "metadata": {},
   "outputs": [
    {
     "name": "stdout",
     "output_type": "stream",
     "text": [
      "I am 24 years old.\n"
     ]
    }
   ],
   "source": [
    "#int to str\n",
    "age = 24\n",
    "print(\"I am \" + str(age) + \" years old.\")\n"
   ]
  },
  {
   "cell_type": "code",
   "execution_count": 64,
   "id": "3a1af99e-d05a-4073-8ac8-0f49a815f59d",
   "metadata": {},
   "outputs": [
    {
     "name": "stdout",
     "output_type": "stream",
     "text": [
      "3\n"
     ]
    }
   ],
   "source": [
    "#float to int\n",
    "pi = 3.14\n",
    "rounded = int(pi)\n",
    "print(rounded)    # Output: 3\n"
   ]
  },
  {
   "cell_type": "code",
   "execution_count": null,
   "id": "f2f90f30-3bfc-4883-ac18-a7a9c0c2de88",
   "metadata": {},
   "outputs": [],
   "source": []
  }
 ],
 "metadata": {
  "kernelspec": {
   "display_name": "Python 3 (ipykernel)",
   "language": "python",
   "name": "python3"
  },
  "language_info": {
   "codemirror_mode": {
    "name": "ipython",
    "version": 3
   },
   "file_extension": ".py",
   "mimetype": "text/x-python",
   "name": "python",
   "nbconvert_exporter": "python",
   "pygments_lexer": "ipython3",
   "version": "3.12.4"
  }
 },
 "nbformat": 4,
 "nbformat_minor": 5
}
